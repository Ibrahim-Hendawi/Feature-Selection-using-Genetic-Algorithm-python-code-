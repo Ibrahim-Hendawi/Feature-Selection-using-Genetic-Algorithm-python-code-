{
 "cells": [
  {
   "cell_type": "code",
   "execution_count": 1,
   "id": "69d81f4d-a2c5-4656-8a9f-020c39d0c4e9",
   "metadata": {},
   "outputs": [],
   "source": [
    "from sklearn.datasets import load_breast_cancer\n",
    "from sklearn.model_selection import train_test_split\n",
    "from sklearn.ensemble import RandomForestClassifier\n",
    "import numpy as np"
   ]
  },
  {
   "cell_type": "code",
   "execution_count": 2,
   "id": "afd72705-372b-4a1c-9447-30b832bdf329",
   "metadata": {},
   "outputs": [],
   "source": [
    "# Load the breast cancer dataset\n",
    "data = load_breast_cancer()\n",
    "X, y = data.data, data.target"
   ]
  },
  {
   "cell_type": "code",
   "execution_count": 3,
   "id": "4b1b4629-41b0-44d6-ae9f-8de3e16ad043",
   "metadata": {},
   "outputs": [],
   "source": [
    "# Split the data into training and test sets\n",
    "X_train, X_test, y_train, y_test = train_test_split(X, y, test_size=0.2, random_state=42)"
   ]
  },
  {
   "cell_type": "code",
   "execution_count": 4,
   "id": "98c52189-b7f8-495c-b726-e48c05d44415",
   "metadata": {},
   "outputs": [],
   "source": [
    "# Define a function to evaluate the fitness of a feature subset\n",
    "def fitness(features):\n",
    "    X_train_subset = X_train[:, features]\n",
    "    X_test_subset = X_test[:, features]\n",
    "    clf = RandomForestClassifier(random_state=42)\n",
    "    clf.fit(X_train_subset, y_train)\n",
    "    return clf.score(X_test_subset, y_test)"
   ]
  },
  {
   "cell_type": "code",
   "execution_count": 5,
   "id": "f889e561-8b90-41e7-8143-def1051f3ad6",
   "metadata": {},
   "outputs": [],
   "source": [
    "# Define the genetic algorithm parameters\n",
    "population_size = 100\n",
    "num_generations = 20\n",
    "mutation_rate = 0.05"
   ]
  },
  {
   "cell_type": "code",
   "execution_count": 6,
   "id": "7a8a1132-d6cc-4a00-81a0-77e58528bf89",
   "metadata": {},
   "outputs": [],
   "source": [
    "# Initialize the population randomly\n",
    "population = np.random.randint(2, size=(population_size, X.shape[1]))"
   ]
  },
  {
   "cell_type": "code",
   "execution_count": 7,
   "id": "ac3b55ac-d4c4-45b2-9595-c6a19f7401fa",
   "metadata": {},
   "outputs": [],
   "source": [
    "# Evaluate the fitness of the initial population\n",
    "fitness_scores = [fitness(features) for features in population]"
   ]
  },
  {
   "cell_type": "code",
   "execution_count": 8,
   "id": "0ec2aa8b-e941-4a5b-93a4-7c65a28b3846",
   "metadata": {},
   "outputs": [],
   "source": [
    "# Iterate through the generations\n",
    "for generation in range(num_generations):\n",
    "    # Select the parents for crossover\n",
    "    parent_indices = np.random.choice(population_size, size=population_size, replace=True, p=fitness_scores/np.sum(fitness_scores))\n",
    "    parents = population[parent_indices]\n",
    "\n",
    "    # Perform crossover to create the children\n",
    "    children = np.empty_like(parents)\n",
    "    for i in range(population_size):\n",
    "        parent1 = parents[i]\n",
    "        parent2 = parents[np.random.randint(population_size)]\n",
    "        crossover_point = np.random.randint(1, X.shape[1]-1)\n",
    "        child = np.concatenate((parent1[:crossover_point], parent2[crossover_point:]))\n",
    "        children[i] = child\n",
    "\n",
    "    # Perform mutation on some of the children\n",
    "    for i in range(population_size):\n",
    "        if np.random.rand() < mutation_rate:\n",
    "            mutation_point = np.random.randint(X.shape[1])\n",
    "            children[i, mutation_point] = 1 - children[i, mutation_point]\n",
    "\n",
    "    # Evaluate the fitness of the children\n",
    "    children_fitness_scores = [fitness(features) for features in children]\n",
    "\n",
    "    # Replace the old population with the new population of children\n",
    "    population = children\n",
    "    fitness_scores = children_fitness_scores"
   ]
  },
  {
   "cell_type": "code",
   "execution_count": 10,
   "id": "3ab0efaa-8f4e-4e02-9f9f-6c5e51d6b442",
   "metadata": {},
   "outputs": [],
   "source": [
    "# Select the best feature subset from the final population\n",
    "best_features = population[np.argmax(fitness_scores)]"
   ]
  },
  {
   "cell_type": "code",
   "execution_count": 11,
   "id": "8f2debbe-3206-4cbf-81f3-a840d760e375",
   "metadata": {},
   "outputs": [],
   "source": [
    "# Train and evaluate a classifier using the selected features\n",
    "X_train_subset = X_train[:, best_features.astype(bool)]\n",
    "X_test_subset = X_test[:, best_features.astype(bool)]\n",
    "clf = RandomForestClassifier(random_state=42)\n",
    "clf.fit(X_train_subset, y_train)\n",
    "accuracy = clf.score(X_test_subset, y_test)"
   ]
  },
  {
   "cell_type": "code",
   "execution_count": 12,
   "id": "30403cc7-b6af-4960-a233-61e415316b4e",
   "metadata": {},
   "outputs": [
    {
     "name": "stdout",
     "output_type": "stream",
     "text": [
      "Selected features:  [0 0 0 0 0 1 0 1 0 1 1 0 1 0 0 1 0 0 0 0 1 1 1 1 1 1 1 1 0 1]\n",
      "Accuracy:  0.9649122807017544\n"
     ]
    }
   ],
   "source": [
    "print(\"Selected features: \", best_features)\n",
    "print(\"Accuracy: \", accuracy)"
   ]
  }
 ],
 "metadata": {
  "kernelspec": {
   "display_name": "Python 3 (ipykernel)",
   "language": "python",
   "name": "python3"
  },
  "language_info": {
   "codemirror_mode": {
    "name": "ipython",
    "version": 3
   },
   "file_extension": ".py",
   "mimetype": "text/x-python",
   "name": "python",
   "nbconvert_exporter": "python",
   "pygments_lexer": "ipython3",
   "version": "3.10.9"
  }
 },
 "nbformat": 4,
 "nbformat_minor": 5
}
